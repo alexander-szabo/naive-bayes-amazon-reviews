{
 "cells": [
  {
   "cell_type": "markdown",
   "metadata": {},
   "source": [
    "### Overview\n",
    "Naive Bayes is a type of Machine Learning algorithm based in statistics (Bayes' Theorem) which is convenient to use in classification problems for high-dimension data. It can be used to predict sentiment analysis of text-related data, where we assume each of the input features are conditionally independent of each other (the 'prior' distribution).\n",
    "\n",
    "In this notebook, we are going to implement a Multinomial Naive Bayes model in order to predict the sentiment of Amazon reviews for kitchen items (whether they are 'positive' or 'negative' reviews). The model is accurate to ~87% of cases sampled (it correctly classifies 'positive' as positive and 'negative' as negative 87% of our test resulst). At the end, the notebook can take an input of a new review for prediction."
   ]
  },
  {
   "cell_type": "code",
   "execution_count": 6,
   "metadata": {},
   "outputs": [],
   "source": [
    "#imports\n",
    "from sklearn.model_selection import train_test_split\n",
    "from sklearn.naive_bayes import MultinomialNB\n",
    "from sklearn import metrics\n",
    "import numpy as np\n",
    "import pandas as pd\n",
    "import matplotlib.pyplot as plt"
   ]
  },
  {
   "cell_type": "code",
   "execution_count": 7,
   "metadata": {},
   "outputs": [
    {
     "name": "stdout",
     "output_type": "stream",
     "text": [
      "  marketplace  customer_id       review_id  product_id  product_parent  \\\n",
      "0          US     37000337  R3DT59XH7HXR9K  B00303FI0G       529320574   \n",
      "1          US     15272914  R1LFS11BNASSU8  B00JCZKZN6       274237558   \n",
      "2          US     36137863  R296RT05AG0AF6  B00JLIKA5C       544675303   \n",
      "3          US     43311049  R3V37XDZ7ZCI3L  B000GBNB8G       491599489   \n",
      "4          US     13763148  R14GU232NQFYX2  B00VJ5KX9S       353790155   \n",
      "\n",
      "                                       product_title product_category  \\\n",
      "0                    Arthur Court Paper Towel Holder          Kitchen   \n",
      "1  Olde Thompson Bavaria Glass Salt and Pepper Mi...          Kitchen   \n",
      "2  Progressive International PL8 Professional Man...          Kitchen   \n",
      "3                          Zyliss Jumbo Garlic Press          Kitchen   \n",
      "4  1 X Premier Pizza Cutter - Stainless Steel 14\"...          Kitchen   \n",
      "\n",
      "   star_rating  helpful_votes  total_votes vine verified_purchase  \\\n",
      "0          5.0            0.0          0.0    N                 Y   \n",
      "1          5.0            0.0          1.0    N                 Y   \n",
      "2          5.0            0.0          0.0    N                 Y   \n",
      "3          5.0            0.0          1.0    N                 Y   \n",
      "4          5.0            0.0          0.0    N                 Y   \n",
      "\n",
      "                     review_headline  \\\n",
      "0  Beautiful. Looks great on counter   \n",
      "1                Awesome & Self-ness   \n",
      "2     Fabulous and worth every penny   \n",
      "3                         Five Stars   \n",
      "4                    Better than sex   \n",
      "\n",
      "                                         review_body review_date  \n",
      "0                Beautiful.  Looks great on counter.  2015-08-31  \n",
      "1  I personally have 5 days sets and have also bo...  2015-08-31  \n",
      "2  Fabulous and worth every penny. Used for clean...  2015-08-31  \n",
      "3  A must if you love garlic on tomato marinara s...  2015-08-31  \n",
      "4  Worth every penny! Buy one now and be a pizza ...  2015-08-31  \n"
     ]
    }
   ],
   "source": [
    "# Read data into dataframe\n",
    "review_data = pd.read_csv('amazon_reviews_us_Kitchen_v1_00.tsv'\n",
    "                          , sep = '\\t', on_bad_lines='skip')\n",
    "\n",
    "# Rename columns we want\n",
    "review_data = pd.DataFrame(data=review_data\n",
    "                           , columns=['marketplace', 'customer_id',\t'review_id'\n",
    "                                      , 'product_id', 'product_parent', 'product_title', 'product_category'\n",
    "                                      , 'star_rating',\t'helpful_votes', 'total_votes',\t'vine'\n",
    "                                      , 'verified_purchase', 'review_headline', 'review_body', 'review_date'])\n",
    "\n",
    "# First 10 rows\n",
    "pd.set_option(\"display.max_columns\", None)\n",
    "print(review_data.head(5))"
   ]
  },
  {
   "cell_type": "markdown",
   "metadata": {},
   "source": [
    "##### Let's only keep the review text and star rating for this basic model. Later on, we could add more features if we wanted; but for now, we only want to see if we can use the review text in order to predict the 'sentiment'.\n",
    "\n",
    "##### The 'sentiment' can be defined as 'positive' if the user gives a 4 or 5 star review, and 'negative' for a 1 or 2-star review."
   ]
  },
  {
   "cell_type": "code",
   "execution_count": 34,
   "metadata": {},
   "outputs": [
    {
     "name": "stdout",
     "output_type": "stream",
     "text": [
      "Total number of reviews: 4874890\n",
      "                                         review_body  star_rating\n",
      "0                Beautiful.  Looks great on counter.          5.0\n",
      "1  I personally have 5 days sets and have also bo...          5.0\n"
     ]
    }
   ],
   "source": [
    "# Keep only review body and rating\n",
    "\n",
    "reviews = review_data[['review_body', 'star_rating']]\n",
    "print('Total number of reviews:', str(len(reviews)))\n",
    "print(reviews.head(2))\n",
    "\n",
    "# ----------------------------------------------------------------------------------------------\n",
    "# Create positive and negative dataframes\n",
    "# ----------------------------------------------------------------------------------------------\n",
    "review_data_pos = reviews.loc[review_data['star_rating'] > 3]\n",
    "review_data_neg = reviews.loc[review_data['star_rating'] < 3]\n",
    "\n",
    "# ----------------------------------------------------------------------------------------------\n",
    "# Randomly select 100,000 positive reviews and 100,000 negative reviews. Combine them into one dataframe.\n",
    "# ----------------------------------------------------------------------------------------------\n",
    "pos_sample = review_data_pos.sample(n=100000)\n",
    "neg_sample = review_data_neg.sample(n=100000)\n",
    "\n",
    "frames = [pos_sample, neg_sample]\n",
    "combined_df = pd.concat(frames)\n",
    "combined_df['sentiment'] = \"\"\n",
    "\n",
    "combined_df.loc[combined_df['star_rating'] == 5.0, 'sentiment'] = 1\n",
    "combined_df.loc[combined_df['star_rating'] == 4.0, 'sentiment'] = 1\n",
    "combined_df.loc[combined_df['star_rating'] == 2.0, 'sentiment'] = 0\n",
    "combined_df.loc[combined_df['star_rating'] == 1.0, 'sentiment'] = 0"
   ]
  },
  {
   "cell_type": "markdown",
   "metadata": {},
   "source": [
    "##### Before training the model, we'll have to clean the data and use NLP techniques to convert the text into machine-learning format, called 'tokens'. This will shorten the text, so let's see how the text looks like before preprocessing."
   ]
  },
  {
   "cell_type": "code",
   "execution_count": 35,
   "metadata": {},
   "outputs": [
    {
     "name": "stdout",
     "output_type": "stream",
     "text": [
      "Average length: 60.06989\n"
     ]
    }
   ],
   "source": [
    "# ----------------------------------------------------------------------------------------------\n",
    "# Calculate the average length of all the reviews present in the data frame, before processing.\n",
    "# ----------------------------------------------------------------------------------------------\n",
    "avg_word_len = 0\n",
    "for text in combined_df['review_body']:\n",
    "    if not(pd.isna(text)):\n",
    "        avg_word_len += len(text.split())\n",
    "mean_length = avg_word_len/200000\n",
    "print(\"Average length:\", mean_length)"
   ]
  },
  {
   "cell_type": "code",
   "execution_count": 36,
   "metadata": {},
   "outputs": [],
   "source": [
    "# ----------------------------------------------------------------------------------------------\n",
    "# Data Cleaning\n",
    "# ----------------------------------------------------------------------------------------------\n",
    "#a. Convert all the reviews to lowercase\n",
    "combined_df['review_body'] = combined_df['review_body'].str.lower()\n",
    "#b. Remove URLs from reviews\n",
    "combined_df['review_body'] = combined_df['review_body'].str.replace(r'http\\S+',r'', regex = True).str.strip()\n",
    "\n",
    "#c. remove non-alphabetical characters\n",
    "combined_df['review_body'] = combined_df['review_body'].str.replace(r',',r' ', regex = True)\n",
    "\n",
    "combined_df['review_body'] = combined_df['review_body'].str.replace(r'[^a-zA-Z\\s]',r'', regex = True)\n",
    "\n",
    "#d. Remove extra spaces between words\n",
    "combined_df['review_body'] = combined_df['review_body'].str.replace(r'\\s+',r' ', regex = True)\n"
   ]
  },
  {
   "cell_type": "markdown",
   "metadata": {},
   "source": [
    "##### In Natural Language Processing, there are a few steps to convert text data into a form that machine learning can use.\n",
    "\n",
    "##### The first is stop word removal: getting rid of the 'fluff' in text like pronouns, prepositions, etc. and only keeping words that really signify sentiment like adjectives and nouns, in a basic explanation.\n",
    "\n",
    "##### The next step is Lemmatization: basically converting words into their root forms or 'lemmas', like 'feet' --> 'foot', 'computers' --> 'computer', 'adds' --> 'add'"
   ]
  },
  {
   "cell_type": "code",
   "execution_count": 37,
   "metadata": {},
   "outputs": [
    {
     "name": "stdout",
     "output_type": "stream",
     "text": [
      "Before preprocessing:\n",
      "                                                review_body\n",
      "2403540  this pot is exceptionally well made and the gl...\n",
      "2247073                              thanksbr its so great\n",
      "3335051  this does the job just fine for cleaning my co...\n",
      "3654164  i love this knife i use it for all my chopping...\n",
      "3870214  while setting it up in my kitchen i was baffle...\n",
      "\n",
      "After stop removal:\n",
      "\n",
      "                                                review_body\n",
      "2403540  pot exceptionally well made glazing perfect ei...\n",
      "2247073                                     thanksbr great\n",
      "3335051  job fine cleaning coffee machine brissles taug...\n",
      "3654164  love knife use chopping nice quality keep shar...\n",
      "3870214  setting kitchen baffled discover two full sets...\n",
      "\n",
      "After lemmatization:\n",
      "\n",
      " 2403540    pot exceptionally well made glazing perfect ei...\n",
      "2247073                                       thanksbr great\n",
      "3335051    job fine cleaning coffee machine brissles taug...\n",
      "3654164    love knife use chopping nice quality keep shar...\n",
      "3870214    setting kitchen baffled discover two full set ...\n",
      "Name: review_body, dtype: object\n"
     ]
    }
   ],
   "source": [
    "# ----------------------------------------------------------------------------------------------\n",
    "# Data Preprocessing\n",
    "# ----------------------------------------------------------------------------------------------\n",
    "import nltk\n",
    "from nltk.corpus import stopwords\n",
    "\n",
    "df_pre =  combined_df.iloc[:50, :].copy(deep=True)\n",
    "\n",
    "#Import stop word set\n",
    "stop_words = set(stopwords.words('english'))\n",
    "print(\"Before preprocessing:\\n\", df_pre[['review_body']].head(5))\n",
    "\n",
    "# Remove stop words - i.e. 'the', 'it', 'they', 'I', 'is', 'are'\n",
    "def stop_word_remover(x):\n",
    "    return \" \".join([word for word in x.split() if word.lower() not in stop_words])\n",
    "\n",
    "combined_df['review_body'] = combined_df['review_body'].astype(str).apply(stop_word_remover)\n",
    "print(\"\\nAfter stop removal:\\n\\n\", combined_df[['review_body']].head(5))\n",
    "\n",
    "# whitespace_tokenizer = nltk.tokenize.WhitespaceTokenizer()\n",
    "lemmatizer = nltk.stem.WordNetLemmatizer()\n",
    "\n",
    "# Lemmatize words and apply to dataset\n",
    "def lemmatization(text):\n",
    "    return \" \".join([lemmatizer.lemmatize(word) for word in text.split()])\n",
    "\n",
    "combined_df['review_body'] = combined_df['review_body'].apply(lambda x: lemmatization(x))\n",
    "\n",
    "print('\\nAfter lemmatization:\\n\\n', combined_df['review_body'].head(5))"
   ]
  },
  {
   "cell_type": "markdown",
   "metadata": {},
   "source": [
    "##### Let's calculate the new average word length of all the reviews present in the data frame. We will see that removing stop words and lemmatizing decreased the word count per review by 50% - this makes the model better able to focus on words (tokens) that provide the most signal."
   ]
  },
  {
   "cell_type": "code",
   "execution_count": 39,
   "metadata": {},
   "outputs": [
    {
     "name": "stdout",
     "output_type": "stream",
     "text": [
      "Average length: 30.02222\n"
     ]
    }
   ],
   "source": [
    "\n",
    "avg_word_len = 0\n",
    "for text in combined_df['review_body']:\n",
    "    if not(pd.isna(text)):\n",
    "        avg_word_len += len(text.split())\n",
    "mean_length = avg_word_len/200000\n",
    "print(\"Average length:\", mean_length)"
   ]
  },
  {
   "cell_type": "code",
   "execution_count": 40,
   "metadata": {},
   "outputs": [
    {
     "name": "stdout",
     "output_type": "stream",
     "text": [
      "(160000,) (160000,)\n",
      "(40000,) (40000,)\n"
     ]
    }
   ],
   "source": [
    "# ----------------------------------------------------------------------------------------------\n",
    "# Partition dataset into train and test, using sklearn train_test_split\n",
    "# ----------------------------------------------------------------------------------------------\n",
    "\n",
    "X = combined_df['review_body']\n",
    "y = combined_df['sentiment']\n",
    "y=y.astype('int')\n",
    "\n",
    "X_train, X_test, y_train, y_test = train_test_split(X, y, test_size = 0.2, random_state = 2021)\n",
    "print(X_train.shape, y_train.shape)\n",
    "print(X_test.shape, y_test.shape)"
   ]
  },
  {
   "cell_type": "markdown",
   "metadata": {},
   "source": [
    "##### Term frequency Inverse document frequency (TFIDF) is a statistical formula to convert text documents into vectors based on the relevancy of the word. Basically, it finds out which are the most and least relevant words that frequently occur in the data, and assigns a fractional number based on the relative importance."
   ]
  },
  {
   "cell_type": "code",
   "execution_count": 41,
   "metadata": {},
   "outputs": [],
   "source": [
    "# ----------------------------------------------------------------------------------------------\n",
    "# Extract the tfidf features from train and test dataset using sklearn TfidfVectorizer.\n",
    "# ----------------------------------------------------------------------------------------------\n",
    "from sklearn.feature_extraction.text import TfidfVectorizer\n",
    "vectorizer = TfidfVectorizer()\n",
    "X_train = vectorizer.fit_transform(X_train) # Fit_transform the train data\n",
    "X_test = vectorizer.transform(X_test)   # transform test data"
   ]
  },
  {
   "cell_type": "markdown",
   "metadata": {},
   "source": [
    "##### Finally, let's train a basic model for Multinomial Naive Bayes. 'Multinomial' refers to the nature of the input data, where the inputs are either integers (discrete # of how many times each token/word was found to occur in the training data) or TFIDF, which is a fractional value. "
   ]
  },
  {
   "cell_type": "code",
   "execution_count": 60,
   "metadata": {},
   "outputs": [
    {
     "name": "stdout",
     "output_type": "stream",
     "text": [
      "Train accuracy, precision, recall, f1: 89.365625, 90.259649, 88.291605, 89.264781\n"
     ]
    }
   ],
   "source": [
    "# ----------------------------------------------------------------------------------------------\n",
    "# Train multinomial naive Bayes, and evaluate model performance on training set\n",
    "# ----------------------------------------------------------------------------------------------\n",
    "from sklearn import metrics\n",
    "from sklearn.naive_bayes import MultinomialNB\n",
    "from sklearn.metrics import accuracy_score, precision_score, recall_score, f1_score\n",
    "\n",
    "# Instantiate\n",
    "naive_bayes = MultinomialNB()\n",
    "\n",
    "# Fit model\n",
    "naive_bayes.fit(X_train, y_train)\n",
    "\n",
    "# Predict on train data\n",
    "y_pred_train = naive_bayes.predict(X_train)\n",
    "\n",
    "# Train accuracy score:\n",
    "accuracy = accuracy_score(y_train, y_pred_train)\n",
    "precision =  precision_score(y_train, y_pred_train)\n",
    "recall = recall_score(y_train, y_pred_train) \n",
    "f1 = f1_score(y_train, y_pred_train)\n",
    "print(\"Train accuracy, precision, recall, f1: %f, %f, %f, %f\" % (100*accuracy_train, 100*precision, 100*recall, 100*f1)) # 89.36%\n"
   ]
  },
  {
   "cell_type": "markdown",
   "metadata": {},
   "source": [
    "##### Let's also compare training metrics to test, and see how well the model performs in each scenario. Note that Naive Bayes has no hyperparameters to tune due to its 'Naive' statistical underpinnings. Ideally the train and test metrics will be close to each other, to indicate lack of overfitting."
   ]
  },
  {
   "cell_type": "code",
   "execution_count": 64,
   "metadata": {},
   "outputs": [
    {
     "name": "stdout",
     "output_type": "stream",
     "text": [
      "Test accuracy, precision, recall, f1: 87.330000, 88.296442, 85.888922, 87.076044\n"
     ]
    }
   ],
   "source": [
    "# Predict on test data\n",
    "y_pred_test = naive_bayes.predict(X_test)\n",
    "\n",
    "#accuracy\n",
    "accuracy_test = accuracy_score(y_test, y_pred_test)\n",
    "precision_test =  precision_score(y_test, y_pred_test)\n",
    "recall_test = recall_score(y_test, y_pred_test) \n",
    "f1_test = f1_score(y_test, y_pred_test)\n",
    "print(\"Test accuracy, precision, recall, f1: %f, %f, %f, %f\" % (100*accuracy_test, 100*precision_test, 100*recall_test, 100*f1_test)) # 89.36%\n"
   ]
  },
  {
   "cell_type": "markdown",
   "metadata": {},
   "source": [
    "##### Since we have a binary classification of 'positive' or 'negative', we can visualize the total number of times the model was correct or incorrect in its predictions with the plot below."
   ]
  },
  {
   "cell_type": "code",
   "execution_count": 94,
   "metadata": {},
   "outputs": [
    {
     "data": {
      "text/plain": [
       "<Axes: title={'center': 'Confusion Matrix for NB Predictions'}>"
      ]
     },
     "execution_count": 94,
     "metadata": {},
     "output_type": "execute_result"
    },
    {
     "data": {
      "image/png": "[encoded data removed]",
      "text/plain": [
       "<Figure size 1000x700 with 2 Axes>"
      ]
     },
     "metadata": {},
     "output_type": "display_data"
    }
   ],
   "source": [
    "from sklearn.metrics import confusion_matrix\n",
    "import seaborn as sns\n",
    "cm = confusion_matrix(y_test, y_pred_test)\n",
    "cm = cm/40000\n",
    "df_cm = pd.DataFrame(cm, index=['Negative Pred.', 'Positive Pred.'], columns=['Negative Actual', 'Positive Actual'])\n",
    "plt.figure(figsize=(10,7))\n",
    "plt.title('Confusion Matrix for NB Predictions', fontsize=18)\n",
    "sns.heatmap(df_cm, annot=True, annot_kws={\"size\":12})"
   ]
  },
  {
   "cell_type": "markdown",
   "metadata": {},
   "source": [
    "##### Finally, we can input any given sample review, and see what the model will predict for its sentiment."
   ]
  },
  {
   "cell_type": "code",
   "execution_count": 85,
   "metadata": {},
   "outputs": [
    {
     "name": "stdout",
     "output_type": "stream",
     "text": [
      "Predicted sentiment: Positive\n"
     ]
    }
   ],
   "source": [
    "sample = str(input('Which review would you like to predict?: '))\n",
    "# The sample input here was, I would recommend it, I use it every day!\n",

    "sample = lemmatization(sample)\n",
    "sample = vectorizer.transform([sample])\n",
    "pred = naive_bayes.predict(sample)\n",
    "if pred == ['0']:\n",
    "    print('Predicted sentiment: Negative')\n",
    "else:\n",
    "    print('Predicted sentiment: Positive')"
   ]
  }
 ],
 "metadata": {
  "kernelspec": {
   "display_name": "aml",
   "language": "python",
   "name": "python3"
  },
  "language_info": {
   "codemirror_mode": {
    "name": "ipython",
    "version": 3
   },
   "file_extension": ".py",
   "mimetype": "text/x-python",
   "name": "python",
   "nbconvert_exporter": "python",
   "pygments_lexer": "ipython3",
   "version": "3.9.19"
  }
 },
 "nbformat": 4,
 "nbformat_minor": 2
}
